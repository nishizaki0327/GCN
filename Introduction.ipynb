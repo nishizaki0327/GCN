{
  "nbformat": 4,
  "nbformat_minor": 0,
  "metadata": {
    "colab": {
      "name": "Introduction.ipynb",
      "version": "0.3.2",
      "provenance": [],
      "collapsed_sections": [],
      "include_colab_link": true
    },
    "kernelspec": {
      "name": "python3",
      "display_name": "Python 3"
    },
    "accelerator": "GPU"
  },
  "cells": [
    {
      "cell_type": "markdown",
      "metadata": {
        "id": "view-in-github",
        "colab_type": "text"
      },
      "source": [
        "<a href=\"https://colab.research.google.com/github/nshzk8975/GCN/blob/master/Introduction.ipynb\" target=\"_parent\"><img src=\"https://colab.research.google.com/assets/colab-badge.svg\" alt=\"Open In Colab\"/></a>"
      ]
    },
    {
      "metadata": {
        "id": "7RDCKSgmsDV5",
        "colab_type": "code",
        "outputId": "0dc94117-97d5-4651-eacb-05d031e164eb",
        "colab": {
          "base_uri": "https://localhost:8080/",
          "height": 714
        }
      },
      "cell_type": "code",
      "source": [
        "!pip install --verbose --no-cache-dir torch-scatter\n",
        "!pip install --verbose --no-cache-dir torch-sparse\n",
        "!pip install --verbose --no-cache-dir torch-cluster\n",
        "!pip install --verbose --no-cache-dir torch-spline-conv (optional)\n",
        "!pip install torch-geometric"
      ],
      "execution_count": 37,
      "outputs": [
        {
          "output_type": "stream",
          "text": [
            "Created temporary directory: /tmp/pip-ephem-wheel-cache-inb61g5s\n",
            "Created temporary directory: /tmp/pip-req-tracker-elnf2dlw\n",
            "Created requirements tracker '/tmp/pip-req-tracker-elnf2dlw'\n",
            "Created temporary directory: /tmp/pip-install-e6c6rksi\n",
            "Requirement already satisfied: torch-scatter in /usr/local/lib/python3.6/dist-packages (1.1.2)\n",
            "Cleaning up...\n",
            "Removed build tracker '/tmp/pip-req-tracker-elnf2dlw'\n",
            "Created temporary directory: /tmp/pip-ephem-wheel-cache-h6salebh\n",
            "Created temporary directory: /tmp/pip-req-tracker-avm6qwgk\n",
            "Created requirements tracker '/tmp/pip-req-tracker-avm6qwgk'\n",
            "Created temporary directory: /tmp/pip-install-asvvxx14\n",
            "Requirement already satisfied: torch-sparse in /usr/local/lib/python3.6/dist-packages (0.2.4)\n",
            "Requirement already satisfied: scipy in /usr/local/lib/python3.6/dist-packages (from torch-sparse) (1.2.1)\n",
            "Requirement already satisfied: numpy>=1.8.2 in /usr/local/lib/python3.6/dist-packages (from scipy->torch-sparse) (1.16.2)\n",
            "Cleaning up...\n",
            "Removed build tracker '/tmp/pip-req-tracker-avm6qwgk'\n",
            "Created temporary directory: /tmp/pip-ephem-wheel-cache-hhxttkw3\n",
            "Created temporary directory: /tmp/pip-req-tracker-md_hk8re\n",
            "Created requirements tracker '/tmp/pip-req-tracker-md_hk8re'\n",
            "Created temporary directory: /tmp/pip-install-7xyu4fu7\n",
            "Requirement already satisfied: torch-cluster in /usr/local/lib/python3.6/dist-packages (1.2.4)\n",
            "Requirement already satisfied: scipy in /usr/local/lib/python3.6/dist-packages (from torch-cluster) (1.2.1)\n",
            "Requirement already satisfied: numpy>=1.8.2 in /usr/local/lib/python3.6/dist-packages (from scipy->torch-cluster) (1.16.2)\n",
            "Cleaning up...\n",
            "Removed build tracker '/tmp/pip-req-tracker-md_hk8re'\n",
            "/bin/bash: -c: line 0: syntax error near unexpected token `('\n",
            "/bin/bash: -c: line 0: `pip install --verbose --no-cache-dir torch-spline-conv (optional)'\n",
            "Requirement already satisfied: torch-geometric in /usr/local/lib/python3.6/dist-packages (1.1.2)\n",
            "Requirement already satisfied: networkx in /usr/local/lib/python3.6/dist-packages (from torch-geometric) (2.3)\n",
            "Requirement already satisfied: scikit-learn in /usr/local/lib/python3.6/dist-packages (from torch-geometric) (0.20.3)\n",
            "Requirement already satisfied: pandas in /usr/local/lib/python3.6/dist-packages (from torch-geometric) (0.23.4)\n",
            "Requirement already satisfied: plyfile in /usr/local/lib/python3.6/dist-packages (from torch-geometric) (0.7)\n",
            "Requirement already satisfied: scipy in /usr/local/lib/python3.6/dist-packages (from torch-geometric) (1.2.1)\n",
            "Requirement already satisfied: numpy in /usr/local/lib/python3.6/dist-packages (from torch-geometric) (1.16.2)\n",
            "Requirement already satisfied: rdflib in /usr/local/lib/python3.6/dist-packages (from torch-geometric) (4.2.2)\n",
            "Requirement already satisfied: decorator>=4.3.0 in /usr/local/lib/python3.6/dist-packages (from networkx->torch-geometric) (4.4.0)\n",
            "Requirement already satisfied: pytz>=2011k in /usr/local/lib/python3.6/dist-packages (from pandas->torch-geometric) (2018.9)\n",
            "Requirement already satisfied: python-dateutil>=2.5.0 in /usr/local/lib/python3.6/dist-packages (from pandas->torch-geometric) (2.5.3)\n",
            "Requirement already satisfied: pyparsing in /usr/local/lib/python3.6/dist-packages (from rdflib->torch-geometric) (2.4.0)\n",
            "Requirement already satisfied: isodate in /usr/local/lib/python3.6/dist-packages (from rdflib->torch-geometric) (0.6.0)\n",
            "Requirement already satisfied: six>=1.5 in /usr/local/lib/python3.6/dist-packages (from python-dateutil>=2.5.0->pandas->torch-geometric) (1.11.0)\n"
          ],
          "name": "stdout"
        }
      ]
    },
    {
      "metadata": {
        "id": "0QP4D4zxrYUg",
        "colab_type": "code",
        "colab": {}
      },
      "cell_type": "code",
      "source": [
        "import torch\n",
        "from torch_geometric.data import Data\n",
        "\n",
        "edge_index = torch.tensor([[0, 1, 1, 2],\n",
        "                           [1, 0, 2, 1]], dtype=torch.long)\n",
        "x = torch.tensor([[-1], [0], [1]], dtype=torch.float)\n",
        "\n",
        "data = Data(x=x, edge_index=edge_index)"
      ],
      "execution_count": 0,
      "outputs": []
    },
    {
      "metadata": {
        "id": "FOQiphKyrnXn",
        "colab_type": "code",
        "colab": {}
      },
      "cell_type": "code",
      "source": [
        "edge_index = torch.tensor([[0, 1, 2, 3],\n",
        "                          [0, 0, 1, 2]], dtype=torch.long)\n",
        "x = torch.tensor([[-1], [0], [1], [2]], dtype=torch.float)\n",
        "\n",
        "data = Data(x=x, edge_index=edge_index)"
      ],
      "execution_count": 0,
      "outputs": []
    },
    {
      "metadata": {
        "id": "q60o1_7eeC3R",
        "colab_type": "code",
        "colab": {
          "base_uri": "https://localhost:8080/",
          "height": 119
        },
        "outputId": "a0ac2b5c-592d-49ab-8907-ccae69458309"
      },
      "cell_type": "code",
      "source": [
        "print(data.keys)\n",
        "print(data.num_nodes)\n",
        "print(data.num_features)\n",
        "print(data.contains_isolated_nodes())\n",
        "print(data.contains_self_loops())\n",
        "print(len(data))"
      ],
      "execution_count": 40,
      "outputs": [
        {
          "output_type": "stream",
          "text": [
            "['x', 'edge_index']\n",
            "4\n",
            "1\n",
            "True\n",
            "True\n",
            "2\n"
          ],
          "name": "stdout"
        }
      ]
    },
    {
      "metadata": {
        "id": "NBIOsWByfD7S",
        "colab_type": "text"
      },
      "cell_type": "markdown",
      "source": [
        "# Common benchmark **datasets**"
      ]
    },
    {
      "metadata": {
        "id": "gMZv-EsDeGnu",
        "colab_type": "code",
        "colab": {}
      },
      "cell_type": "code",
      "source": [
        "from torch_geometric.datasets import TUDataset\n",
        "\n",
        "dataset = TUDataset(root='/tmp/ENZYMES', name='ENZYMES')"
      ],
      "execution_count": 0,
      "outputs": []
    },
    {
      "metadata": {
        "id": "YscXTTXFfMPn",
        "colab_type": "code",
        "colab": {
          "base_uri": "https://localhost:8080/",
          "height": 34
        },
        "outputId": "245ab94a-8b4d-46b2-a77c-6d8a5b60dc63"
      },
      "cell_type": "code",
      "source": [
        "data = dataset[0]\n",
        "data"
      ],
      "execution_count": 42,
      "outputs": [
        {
          "output_type": "execute_result",
          "data": {
            "text/plain": [
              "Data(edge_index=[2, 168], x=[37, 3], y=[1])"
            ]
          },
          "metadata": {
            "tags": []
          },
          "execution_count": 42
        }
      ]
    },
    {
      "metadata": {
        "id": "0BanT2uyfZ2p",
        "colab_type": "code",
        "colab": {}
      },
      "cell_type": "code",
      "source": [
        "from torch_geometric.datasets import Planetoid\n",
        "\n",
        "dataset = Planetoid(root='/tmp/Cora', name='Cora')"
      ],
      "execution_count": 0,
      "outputs": []
    },
    {
      "metadata": {
        "id": "NCSI92-bgizM",
        "colab_type": "code",
        "colab": {
          "base_uri": "https://localhost:8080/",
          "height": 748
        },
        "outputId": "8442a0eb-2f81-4bba-958b-3ef457636e92"
      },
      "cell_type": "code",
      "source": [
        "from torch_scatter import scatter_mean\n",
        "from torch_geometric.datasets import TUDataset\n",
        "from torch_geometric.data import DataLoader\n",
        "\n",
        "dataset = TUDataset(root='/tmp/ENZYMES', name='ENZYMES')\n",
        "loader = DataLoader(dataset, batch_size=32, shuffle=True)\n",
        "\n",
        "for data in loader:\n",
        "  print(data)\n",
        "\n",
        "x = scatter_mean(data.x, data.batch, dim=0)\n",
        "print(x)"
      ],
      "execution_count": 44,
      "outputs": [
        {
          "output_type": "stream",
          "text": [
            "Batch(batch=[1070], edge_index=[2, 4236], x=[1070, 3], y=[32])\n",
            "Batch(batch=[1054], edge_index=[2, 3984], x=[1054, 3], y=[32])\n",
            "Batch(batch=[919], edge_index=[2, 3462], x=[919, 3], y=[32])\n",
            "Batch(batch=[941], edge_index=[2, 3512], x=[941, 3], y=[32])\n",
            "Batch(batch=[1035], edge_index=[2, 4024], x=[1035, 3], y=[32])\n",
            "Batch(batch=[1014], edge_index=[2, 3874], x=[1014, 3], y=[32])\n",
            "Batch(batch=[1180], edge_index=[2, 4382], x=[1180, 3], y=[32])\n",
            "Batch(batch=[909], edge_index=[2, 3652], x=[909, 3], y=[32])\n",
            "Batch(batch=[1033], edge_index=[2, 4064], x=[1033, 3], y=[32])\n",
            "Batch(batch=[1107], edge_index=[2, 4200], x=[1107, 3], y=[32])\n",
            "Batch(batch=[1040], edge_index=[2, 4044], x=[1040, 3], y=[32])\n",
            "Batch(batch=[1005], edge_index=[2, 3876], x=[1005, 3], y=[32])\n",
            "Batch(batch=[909], edge_index=[2, 3488], x=[909, 3], y=[32])\n",
            "Batch(batch=[1104], edge_index=[2, 4320], x=[1104, 3], y=[32])\n",
            "Batch(batch=[1139], edge_index=[2, 4338], x=[1139, 3], y=[32])\n",
            "Batch(batch=[1203], edge_index=[2, 4392], x=[1203, 3], y=[32])\n",
            "Batch(batch=[997], edge_index=[2, 3334], x=[997, 3], y=[32])\n",
            "Batch(batch=[1101], edge_index=[2, 4324], x=[1101, 3], y=[32])\n",
            "Batch(batch=[820], edge_index=[2, 3058], x=[820, 3], y=[24])\n",
            "tensor([[0.5588, 0.4412, 0.0000],\n",
            "        [0.4390, 0.5610, 0.0000],\n",
            "        [0.6000, 0.4000, 0.0000],\n",
            "        [0.2812, 0.7188, 0.0000],\n",
            "        [0.4255, 0.5745, 0.0000],\n",
            "        [0.5000, 0.5000, 0.0000],\n",
            "        [0.2308, 0.7692, 0.0000],\n",
            "        [0.5862, 0.4138, 0.0000],\n",
            "        [0.5349, 0.4651, 0.0000],\n",
            "        [0.3684, 0.6316, 0.0000],\n",
            "        [0.5926, 0.4074, 0.0000],\n",
            "        [0.3333, 0.6667, 0.0000],\n",
            "        [0.5500, 0.4500, 0.0000],\n",
            "        [0.4074, 0.5926, 0.0000],\n",
            "        [0.6786, 0.3214, 0.0000],\n",
            "        [0.2683, 0.7317, 0.0000],\n",
            "        [0.4595, 0.5405, 0.0000],\n",
            "        [0.6957, 0.3043, 0.0000],\n",
            "        [0.1818, 0.8182, 0.0000],\n",
            "        [0.3750, 0.6250, 0.0000],\n",
            "        [0.6250, 0.3750, 0.0000],\n",
            "        [0.6341, 0.3659, 0.0000],\n",
            "        [0.1250, 0.8750, 0.0000],\n",
            "        [0.7059, 0.2941, 0.0000]])\n"
          ],
          "name": "stdout"
        }
      ]
    },
    {
      "metadata": {
        "id": "__RBUSKcpKeh",
        "colab_type": "text"
      },
      "cell_type": "markdown",
      "source": [
        "# **Data transforms**"
      ]
    },
    {
      "metadata": {
        "id": "lcFXoxs_l7-9",
        "colab_type": "code",
        "colab": {
          "base_uri": "https://localhost:8080/",
          "height": 34
        },
        "outputId": "5aa7d926-4ac2-4338-ff14-a883edc9bf74"
      },
      "cell_type": "code",
      "source": [
        "import torch_geometric.transforms as T\n",
        "from torch_geometric.datasets import ShapeNet\n",
        "\n",
        "dataset = ShapeNet(root='/tmp/ShapeNet', category='Airplane',\n",
        "                    pre_transform=T.KNNGraph(k=6),\n",
        "                    transform=T.RandomTranslate(0.01))\n",
        "\n",
        "print(dataset[0])"
      ],
      "execution_count": 45,
      "outputs": [
        {
          "output_type": "stream",
          "text": [
            "Data(edge_index=[2, 17768], pos=[2518, 3], y=[2518])\n"
          ],
          "name": "stdout"
        }
      ]
    },
    {
      "metadata": {
        "id": "mGW9qHtXqVDB",
        "colab_type": "text"
      },
      "cell_type": "markdown",
      "source": [
        "# **Learning methods on graphs**"
      ]
    },
    {
      "metadata": {
        "id": "qoYdIJubpPK8",
        "colab_type": "code",
        "colab": {}
      },
      "cell_type": "code",
      "source": [
        "from torch_geometric.datasets import Planetoid\n",
        "\n",
        "dataset = Planetoid(root='/tmp/Cora', name='Cora')"
      ],
      "execution_count": 0,
      "outputs": []
    },
    {
      "metadata": {
        "id": "N5lGOuNLstTk",
        "colab_type": "code",
        "colab": {}
      },
      "cell_type": "code",
      "source": [
        "import torch\n",
        "import torch.nn.functional as F\n",
        "from torch_geometric.nn import GCNConv\n",
        "\n",
        "class Net(torch.nn.Module):\n",
        "    def __init__(self):\n",
        "        super(Net, self).__init__()\n",
        "        self.conv1 = GCNConv(dataset.num_features, 16)\n",
        "        self.conv2 = GCNConv(16, dataset.num_classes)\n",
        "\n",
        "    def forward(self, data):\n",
        "        x, edge_index = data.x, data.edge_index\n",
        "\n",
        "        x = self.conv1(x, edge_index)\n",
        "        x = F.relu(x)\n",
        "        x = F.dropout(x, training=self.training)\n",
        "        x = self.conv2(x, edge_index)\n",
        "\n",
        "        return F.log_softmax(x, dim=1)"
      ],
      "execution_count": 0,
      "outputs": []
    },
    {
      "metadata": {
        "id": "HonU7lUIIpLM",
        "colab_type": "code",
        "colab": {}
      },
      "cell_type": "code",
      "source": [
        "device = torch.device('cuda' if torch.cuda.is_available() else 'cpu')\n",
        "model = Net().to(device)\n",
        "data = dataset[0].to(device)\n",
        "optimizer = torch.optim.Adam(model.parameters(), lr=0.01, weight_decay=5e-4)\n",
        "\n",
        "model.train()\n",
        "for epoch in range(200):\n",
        "    optimizer.zero_grad()\n",
        "    out = model(data)\n",
        "    loss = F.nll_loss(out[data.train_mask], data.y[data.train_mask])\n",
        "    loss.backward()\n",
        "    optimizer.step()"
      ],
      "execution_count": 0,
      "outputs": []
    },
    {
      "metadata": {
        "id": "Oj76K7i6Iqcc",
        "colab_type": "code",
        "colab": {
          "base_uri": "https://localhost:8080/",
          "height": 34
        },
        "outputId": "63e0fb21-5898-4a16-cde3-fb02774450f7"
      },
      "cell_type": "code",
      "source": [
        "model.eval()\n",
        "_, pred = model(data).max(dim=1)\n",
        "correct = pred[data.test_mask].eq(data.y[data.test_mask]).sum().item()\n",
        "acc = correct / data.test_mask.sum().item()\n",
        "print('Accuracy: {:.4f}'.format(acc))"
      ],
      "execution_count": 49,
      "outputs": [
        {
          "output_type": "stream",
          "text": [
            "Accuracy: 0.7920\n"
          ],
          "name": "stdout"
        }
      ]
    },
    {
      "metadata": {
        "id": "ajiFAfobKvzd",
        "colab_type": "code",
        "colab": {}
      },
      "cell_type": "code",
      "source": [
        ""
      ],
      "execution_count": 0,
      "outputs": []
    }
  ]
}